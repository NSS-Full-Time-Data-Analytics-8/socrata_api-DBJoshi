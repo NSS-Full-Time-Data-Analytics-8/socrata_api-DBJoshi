{
 "cells": [
  {
   "cell_type": "code",
   "execution_count": null,
   "id": "3e03efb5",
   "metadata": {},
   "outputs": [],
   "source": [
    "import requests\n",
    "import matplotlib.pyplot as plt\n",
    "import json\n",
    "import pandas as pd"
   ]
  },
  {
   "cell_type": "code",
   "execution_count": null,
   "id": "6af2f3f6",
   "metadata": {},
   "outputs": [],
   "source": [
    "endpoint = 'https://data.nashville.gov/resource/fuaa-r5cm.json'\n",
    "\n"
   ]
  },
  {
   "cell_type": "code",
   "execution_count": null,
   "id": "7d24dd0a",
   "metadata": {},
   "outputs": [],
   "source": [
    "response = requests.get(endpoint)"
   ]
  },
  {
   "cell_type": "code",
   "execution_count": null,
   "id": "5d4d1a3f",
   "metadata": {},
   "outputs": [],
   "source": [
    "response"
   ]
  },
  {
   "cell_type": "code",
   "execution_count": null,
   "id": "41409f63",
   "metadata": {},
   "outputs": [],
   "source": [
    "endpoint = 'https://data.nashville.gov/resource/fuaa-r5cm.json'\n",
    "\n",
    "params = {\n",
    "    'year': '2016',\n",
    "'query_text': 'fire'}"
   ]
  },
  {
   "cell_type": "code",
   "execution_count": null,
   "id": "82d36102",
   "metadata": {},
   "outputs": [],
   "source": [
    "response = requests.get(endpoint, params = params)"
   ]
  },
  {
   "cell_type": "code",
   "execution_count": null,
   "id": "7d65a37c",
   "metadata": {},
   "outputs": [],
   "source": [
    "response\n"
   ]
  },
  {
   "cell_type": "code",
   "execution_count": null,
   "id": "0e4ec56e",
   "metadata": {
    "scrolled": true
   },
   "outputs": [],
   "source": [
    "res = response.json()\n",
    "res\n"
   ]
  },
  {
   "cell_type": "code",
   "execution_count": null,
   "id": "623c4ce6",
   "metadata": {},
   "outputs": [],
   "source": [
    "fire_df= pd.DataFrame(res)"
   ]
  },
  {
   "cell_type": "code",
   "execution_count": null,
   "id": "b4351947",
   "metadata": {},
   "outputs": [],
   "source": [
    "fire_df.sort_values(by='query_count',ascending =False)"
   ]
  },
  {
   "cell_type": "code",
   "execution_count": null,
   "id": "f0524fad",
   "metadata": {},
   "outputs": [],
   "source": [
    "endpoint = 'https://data.nashville.gov/resource/fuaa-r5cm.json'"
   ]
  },
  {
   "cell_type": "code",
   "execution_count": null,
   "id": "7210207d",
   "metadata": {},
   "outputs": [],
   "source": [
    "filters1 = {'$where': 'query_count>100','$limit' :'50000'}"
   ]
  },
  {
   "cell_type": "code",
   "execution_count": null,
   "id": "b5cd10f2",
   "metadata": {},
   "outputs": [],
   "source": [
    "response = requests.get(endpoint,params = filters1)"
   ]
  },
  {
   "cell_type": "code",
   "execution_count": null,
   "id": "1a3c961d",
   "metadata": {},
   "outputs": [],
   "source": [
    "response"
   ]
  },
  {
   "cell_type": "code",
   "execution_count": null,
   "id": "e623a412",
   "metadata": {
    "scrolled": true
   },
   "outputs": [],
   "source": [
    "res = response.json()\n",
    "res"
   ]
  },
  {
   "cell_type": "code",
   "execution_count": null,
   "id": "8b52a43d",
   "metadata": {},
   "outputs": [],
   "source": [
    "h_q_df = pd.DataFrame(res)"
   ]
  },
  {
   "cell_type": "code",
   "execution_count": null,
   "id": "07accd70",
   "metadata": {
    "scrolled": true
   },
   "outputs": [],
   "source": [
    "h_q_df"
   ]
  },
  {
   "cell_type": "code",
   "execution_count": null,
   "id": "fcae2d12",
   "metadata": {},
   "outputs": [],
   "source": [
    "endpoint = 'https://data.nashville.gov/resource/fuaa-r5cm.json'"
   ]
  },
  {
   "cell_type": "code",
   "execution_count": null,
   "id": "0926c045",
   "metadata": {},
   "outputs": [],
   "source": [
    "filters2 = {'$where': 'query_count>100','query_text': 'codes'}"
   ]
  },
  {
   "cell_type": "code",
   "execution_count": null,
   "id": "d1823999",
   "metadata": {},
   "outputs": [],
   "source": [
    "response = requests.get(endpoint,params = filters2)"
   ]
  },
  {
   "cell_type": "code",
   "execution_count": null,
   "id": "2f59e797",
   "metadata": {},
   "outputs": [],
   "source": [
    "response"
   ]
  },
  {
   "cell_type": "code",
   "execution_count": null,
   "id": "8b3ab88e",
   "metadata": {},
   "outputs": [],
   "source": [
    "res = response.json()\n",
    "res"
   ]
  },
  {
   "cell_type": "code",
   "execution_count": null,
   "id": "e4ce8071",
   "metadata": {},
   "outputs": [],
   "source": [
    "codes_df = pd.DataFrame(res)"
   ]
  },
  {
   "cell_type": "code",
   "execution_count": null,
   "id": "5fd693ec",
   "metadata": {
    "scrolled": true
   },
   "outputs": [],
   "source": [
    "codes_df"
   ]
  },
  {
   "cell_type": "code",
   "execution_count": null,
   "id": "e5741a25",
   "metadata": {},
   "outputs": [],
   "source": [
    "endpoint = 'https://data.nashville.gov/resource/fuaa-r5cm.json'"
   ]
  },
  {
   "cell_type": "code",
   "execution_count": null,
   "id": "7efb54bb",
   "metadata": {},
   "outputs": [],
   "source": [
    "filters3 = {'query_text': 'maps', '$limit':'50000'}"
   ]
  },
  {
   "cell_type": "code",
   "execution_count": null,
   "id": "618fdea9",
   "metadata": {},
   "outputs": [],
   "source": [
    "response=  requests.get(endpoint,params = filters3)"
   ]
  },
  {
   "cell_type": "code",
   "execution_count": null,
   "id": "8c9aae65",
   "metadata": {},
   "outputs": [],
   "source": [
    "response"
   ]
  },
  {
   "cell_type": "code",
   "execution_count": null,
   "id": "7d901017",
   "metadata": {},
   "outputs": [],
   "source": [
    "res = response.json()\n",
    "res"
   ]
  },
  {
   "cell_type": "code",
   "execution_count": null,
   "id": "f6cfffc8",
   "metadata": {},
   "outputs": [],
   "source": [
    "maps_df = pd.DataFrame(res)"
   ]
  },
  {
   "cell_type": "code",
   "execution_count": null,
   "id": "d4e5e461",
   "metadata": {
    "scrolled": true
   },
   "outputs": [],
   "source": [
    "maps_df"
   ]
  }
 ],
 "metadata": {
  "kernelspec": {
   "display_name": "Python 3 (ipykernel)",
   "language": "python",
   "name": "python3"
  },
  "language_info": {
   "codemirror_mode": {
    "name": "ipython",
    "version": 3
   },
   "file_extension": ".py",
   "mimetype": "text/x-python",
   "name": "python",
   "nbconvert_exporter": "python",
   "pygments_lexer": "ipython3",
   "version": "3.9.13"
  }
 },
 "nbformat": 4,
 "nbformat_minor": 5
}
